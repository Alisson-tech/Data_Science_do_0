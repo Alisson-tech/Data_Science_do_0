{
 "cells": [
  {
   "cell_type": "markdown",
   "metadata": {},
   "source": [
    "## Matrizes - 60\n",
    "\n",
    "Matriz é uma coleção bidimensional de números, no python utilizaremos listas de listas."
   ]
  },
  {
   "cell_type": "code",
   "execution_count": 49,
   "metadata": {},
   "outputs": [
    {
     "ename": "ModuleNotFoundError",
     "evalue": "No module named 'Vetores'",
     "output_type": "error",
     "traceback": [
      "\u001b[0;31m---------------------------------------------------------------------------\u001b[0m",
      "\u001b[0;31mModuleNotFoundError\u001b[0m                       Traceback (most recent call last)",
      "\u001b[0;32m/tmp/ipykernel_1227/1516973306.py\u001b[0m in \u001b[0;36m<module>\u001b[0;34m\u001b[0m\n\u001b[1;32m      1\u001b[0m \u001b[0;32mfrom\u001b[0m \u001b[0mtyping\u001b[0m \u001b[0;32mimport\u001b[0m \u001b[0mList\u001b[0m\u001b[0;34m,\u001b[0m \u001b[0mTuple\u001b[0m\u001b[0;34m,\u001b[0m \u001b[0mCallable\u001b[0m\u001b[0;34m\u001b[0m\u001b[0m\n\u001b[1;32m      2\u001b[0m \u001b[0;32mimport\u001b[0m \u001b[0mmath\u001b[0m\u001b[0;34m\u001b[0m\u001b[0m\n\u001b[0;32m----> 3\u001b[0;31m \u001b[0;32mimport\u001b[0m \u001b[0mVetores\u001b[0m\u001b[0;34m\u001b[0m\u001b[0m\n\u001b[0m",
      "\u001b[0;31mModuleNotFoundError\u001b[0m: No module named 'Vetores'"
     ]
    }
   ],
   "source": [
    "from typing import List, Tuple, Callable\n",
    "import math"
   ]
  },
  {
   "cell_type": "code",
   "execution_count": null,
   "metadata": {},
   "outputs": [],
   "source": [
    "matrix = List[List[float]]"
   ]
  },
  {
   "cell_type": "code",
   "execution_count": null,
   "metadata": {},
   "outputs": [],
   "source": [
    "matriz = [[1,2,3],[5,6,7]] # 3 colunas, 2 linhas\n",
    "matriz"
   ]
  },
  {
   "cell_type": "code",
   "execution_count": 50,
   "metadata": {},
   "outputs": [
    {
     "data": {
      "text/plain": [
       "(2, 3)"
      ]
     },
     "execution_count": 50,
     "metadata": {},
     "output_type": "execute_result"
    }
   ],
   "source": [
    "def shape(A: matrix) -> Tuple[int, int]: # Retorna o tamanho da matriz\n",
    "    linhas = len(A)\n",
    "    colunas = len(A[0])\n",
    "    return linhas, colunas\n",
    "\n",
    "shape(matriz)"
   ]
  },
  {
   "cell_type": "code",
   "execution_count": 51,
   "metadata": {},
   "outputs": [
    {
     "data": {
      "text/plain": [
       "[5, 6, 7]"
      ]
     },
     "execution_count": 51,
     "metadata": {},
     "output_type": "execute_result"
    }
   ],
   "source": [
    "# Retornar todos elementos da linha i\n",
    "def get_row(A: matrix, i: int) -> List[float]: \n",
    "    return A[i]\n",
    "\n",
    "get_row(matriz, 1)"
   ]
  },
  {
   "cell_type": "code",
   "execution_count": 52,
   "metadata": {},
   "outputs": [
    {
     "data": {
      "text/plain": [
       "[1, 5]"
      ]
     },
     "execution_count": 52,
     "metadata": {},
     "output_type": "execute_result"
    }
   ],
   "source": [
    "#Retorna todos elementos dacoluna j\n",
    "def get_column(A: matrix, j: int) -> List[float]: \n",
    "    return[a_i[j] for a_i in A]\n",
    "\n",
    "get_column(matriz, 0)"
   ]
  },
  {
   "cell_type": "code",
   "execution_count": 53,
   "metadata": {},
   "outputs": [
    {
     "data": {
      "text/plain": [
       "[[4, 4, 4], [4, 4, 4]]"
      ]
     },
     "execution_count": 53,
     "metadata": {},
     "output_type": "execute_result"
    }
   ],
   "source": [
    "# Cria uma matriz\n",
    "def criar_matriz(colunas : int,\n",
    "                 linhas: int,\n",
    "                 #Objeto do tipo função com lista de lista (i, j)\n",
    "                 valores: Callable[[int,int], float]\n",
    "                ) -> matrix:\n",
    "    return[[valores(i,j) for j in range(colunas)] \n",
    "           for i in range(linhas)] #percorre i e j e gera lista de lista\n",
    "\n",
    "criar_matriz(3, 2, (lambda i,j: 4))"
   ]
  },
  {
   "cell_type": "code",
   "execution_count": 54,
   "metadata": {},
   "outputs": [
    {
     "data": {
      "text/plain": [
       "[[1, 0, 0, 0, 0, 0],\n",
       " [0, 1, 0, 0, 0, 0],\n",
       " [0, 0, 1, 0, 0, 0],\n",
       " [0, 0, 0, 1, 0, 0],\n",
       " [0, 0, 0, 0, 1, 0],\n",
       " [0, 0, 0, 0, 0, 1]]"
      ]
     },
     "execution_count": 54,
     "metadata": {},
     "output_type": "execute_result"
    }
   ],
   "source": [
    "# Matriz identidade (NxN com 1 na diagonal principal\n",
    "def matriz_identidade(n : int) -> matrix: \n",
    "    return criar_matriz(n,n, lambda i,j: 1 if i==j else 0)\n",
    "\n",
    "matriz_identidade(6)"
   ]
  },
  {
   "cell_type": "markdown",
   "metadata": {},
   "source": [
    "## Redes de amigos - pg 62\n",
    "\n",
    "Matriz de rede amigos\n",
    "(one-hot-encoding)"
   ]
  },
  {
   "cell_type": "code",
   "execution_count": 55,
   "metadata": {},
   "outputs": [
    {
     "ename": "AssertionError",
     "evalue": "3 e 0 não são amigos",
     "output_type": "error",
     "traceback": [
      "\u001b[0;31m---------------------------------------------------------------------------\u001b[0m",
      "\u001b[0;31mAssertionError\u001b[0m                            Traceback (most recent call last)",
      "\u001b[0;32m/tmp/ipykernel_1227/2179081782.py\u001b[0m in \u001b[0;36m<module>\u001b[0;34m\u001b[0m\n\u001b[1;32m     12\u001b[0m \u001b[0;34m\u001b[0m\u001b[0m\n\u001b[1;32m     13\u001b[0m \u001b[0;32massert\u001b[0m \u001b[0mmatriz_amigos\u001b[0m\u001b[0;34m[\u001b[0m\u001b[0;36m1\u001b[0m\u001b[0;34m]\u001b[0m\u001b[0;34m[\u001b[0m\u001b[0;36m3\u001b[0m\u001b[0;34m]\u001b[0m \u001b[0;34m==\u001b[0m \u001b[0;36m1\u001b[0m \u001b[0;34m,\u001b[0m \u001b[0;34m'1 e 3 são amigos'\u001b[0m\u001b[0;34m\u001b[0m\u001b[0m\n\u001b[0;32m---> 14\u001b[0;31m \u001b[0;32massert\u001b[0m \u001b[0mmatriz_amigos\u001b[0m\u001b[0;34m[\u001b[0m\u001b[0;36m3\u001b[0m\u001b[0;34m]\u001b[0m\u001b[0;34m[\u001b[0m\u001b[0;36m0\u001b[0m\u001b[0;34m]\u001b[0m \u001b[0;34m==\u001b[0m \u001b[0;36m1\u001b[0m \u001b[0;34m,\u001b[0m \u001b[0;34m'3 e 0 não são amigos'\u001b[0m\u001b[0;34m\u001b[0m\u001b[0m\n\u001b[0m",
      "\u001b[0;31mAssertionError\u001b[0m: 3 e 0 não são amigos"
     ]
    }
   ],
   "source": [
    "    #usuario      0, 1, 2, 3, 4, 5, 6, 7, 8, 9  \n",
    "matriz_amigos = [[0, 1, 1, 0, 0, 0, 0, 0, 0, 0], # usuario 0\n",
    "                [1, 0, 1, 1, 0, 0, 0, 0, 0, 0], # 1\n",
    "                [1, 1, 0, 1, 0, 0, 0, 0, 0, 0], # 2\n",
    "                [0, 1, 1, 0, 1, 0, 0, 0, 0, 0], # 3\n",
    "                [0, 0, 0, 1, 0, 1, 0, 0, 0, 0], # 4\n",
    "                [0, 0, 0, 0, 1, 0, 1, 1, 0, 0], # 5\n",
    "                [0, 0, 0, 0, 0, 1, 0, 0, 1, 0], # 6\n",
    "                [0, 0, 0, 0, 0, 1, 0, 0, 1, 0], # 7\n",
    "                [0, 0, 0, 0, 0, 0, 1, 1, 0, 1], # 8\n",
    "                [0, 0, 0, 0, 0, 0, 0, 0, 1, 0]]  # 9\n",
    "\n",
    "assert matriz_amigos[1][3] == 1 , '1 e 3 são amigos'\n",
    "assert matriz_amigos[3][0] == 1 , '3 e 0 não são amigos'"
   ]
  },
  {
   "cell_type": "code",
   "execution_count": 57,
   "metadata": {},
   "outputs": [
    {
     "data": {
      "text/plain": [
       "[4, 6, 7]"
      ]
     },
     "execution_count": 57,
     "metadata": {},
     "output_type": "execute_result"
    }
   ],
   "source": [
    "amigos_cinco = [ i for i, amigos in enumerate(matriz_amigos[5]) \n",
    "               if amigos] # Enumere as colunas da linha 5\n",
    "                          # Atribua o valor de i se amigo == 1  \n",
    "amigos_cinco"
   ]
  },
  {
   "cell_type": "markdown",
   "metadata": {},
   "source": [
    "# Algebra Linear - Capitulo 4\n",
    "\n",
    "## Calculo de vetores - pg 56\n",
    "\n",
    "- Soma (v_i + w_i)\n",
    "- Subtração(v_i - w_i)\n",
    "\n",
    "\n",
    "Soma ou Subtração de item por item de um vetor"
   ]
  },
  {
   "cell_type": "code",
   "execution_count": 58,
   "metadata": {},
   "outputs": [
    {
     "name": "stdout",
     "output_type": "stream",
     "text": [
      "[6, 4, 6]\n",
      "[-4, 3, 3]\n"
     ]
    },
    {
     "ename": "AssertionError",
     "evalue": "",
     "output_type": "error",
     "traceback": [
      "\u001b[0;31m---------------------------------------------------------------------------\u001b[0m",
      "\u001b[0;31mAssertionError\u001b[0m                            Traceback (most recent call last)",
      "\u001b[0;32m/tmp/ipykernel_1227/1449352867.py\u001b[0m in \u001b[0;36m<module>\u001b[0;34m\u001b[0m\n\u001b[1;32m     11\u001b[0m \u001b[0mprint\u001b[0m\u001b[0;34m(\u001b[0m\u001b[0msomar\u001b[0m\u001b[0;34m(\u001b[0m\u001b[0;34m[\u001b[0m\u001b[0;36m1\u001b[0m\u001b[0;34m,\u001b[0m\u001b[0;36m2\u001b[0m\u001b[0;34m,\u001b[0m\u001b[0;36m5\u001b[0m\u001b[0;34m]\u001b[0m\u001b[0;34m,\u001b[0m \u001b[0;34m[\u001b[0m\u001b[0;36m5\u001b[0m\u001b[0;34m,\u001b[0m \u001b[0;36m2\u001b[0m\u001b[0;34m,\u001b[0m \u001b[0;36m1\u001b[0m\u001b[0;34m]\u001b[0m\u001b[0;34m)\u001b[0m\u001b[0;34m)\u001b[0m\u001b[0;34m\u001b[0m\u001b[0m\n\u001b[1;32m     12\u001b[0m \u001b[0mprint\u001b[0m\u001b[0;34m(\u001b[0m\u001b[0msubtrair\u001b[0m\u001b[0;34m(\u001b[0m\u001b[0;34m[\u001b[0m\u001b[0;36m1\u001b[0m\u001b[0;34m,\u001b[0m\u001b[0;36m5\u001b[0m\u001b[0;34m,\u001b[0m \u001b[0;36m4\u001b[0m\u001b[0;34m]\u001b[0m\u001b[0;34m,\u001b[0m \u001b[0;34m[\u001b[0m\u001b[0;36m5\u001b[0m\u001b[0;34m,\u001b[0m \u001b[0;36m2\u001b[0m\u001b[0;34m,\u001b[0m \u001b[0;36m1\u001b[0m\u001b[0;34m]\u001b[0m\u001b[0;34m)\u001b[0m\u001b[0;34m)\u001b[0m\u001b[0;34m\u001b[0m\u001b[0m\n\u001b[0;32m---> 13\u001b[0;31m \u001b[0mprint\u001b[0m\u001b[0;34m(\u001b[0m\u001b[0msubtrair\u001b[0m\u001b[0;34m(\u001b[0m\u001b[0;34m[\u001b[0m\u001b[0;36m1\u001b[0m\u001b[0;34m,\u001b[0m\u001b[0;36m5\u001b[0m\u001b[0;34m]\u001b[0m\u001b[0;34m,\u001b[0m \u001b[0;34m[\u001b[0m\u001b[0;36m5\u001b[0m\u001b[0;34m,\u001b[0m \u001b[0;36m2\u001b[0m\u001b[0;34m,\u001b[0m \u001b[0;36m1\u001b[0m\u001b[0;34m]\u001b[0m\u001b[0;34m)\u001b[0m\u001b[0;34m)\u001b[0m \u001b[0;31m# Assertion error\u001b[0m\u001b[0;34m\u001b[0m\u001b[0m\n\u001b[0m",
      "\u001b[0;32m/tmp/ipykernel_1227/1449352867.py\u001b[0m in \u001b[0;36msubtrair\u001b[0;34m(v, w)\u001b[0m\n\u001b[1;32m      5\u001b[0m \u001b[0;34m\u001b[0m\u001b[0m\n\u001b[1;32m      6\u001b[0m \u001b[0;32mdef\u001b[0m \u001b[0msubtrair\u001b[0m\u001b[0;34m(\u001b[0m\u001b[0mv\u001b[0m\u001b[0;34m:\u001b[0m \u001b[0mVector\u001b[0m\u001b[0;34m,\u001b[0m \u001b[0mw\u001b[0m\u001b[0;34m:\u001b[0m \u001b[0mVector\u001b[0m\u001b[0;34m)\u001b[0m \u001b[0;34m->\u001b[0m \u001b[0mVector\u001b[0m\u001b[0;34m:\u001b[0m\u001b[0;34m\u001b[0m\u001b[0m\n\u001b[0;32m----> 7\u001b[0;31m     \u001b[0;32massert\u001b[0m \u001b[0mlen\u001b[0m\u001b[0;34m(\u001b[0m\u001b[0mv\u001b[0m\u001b[0;34m)\u001b[0m \u001b[0;34m==\u001b[0m \u001b[0mlen\u001b[0m\u001b[0;34m(\u001b[0m\u001b[0mw\u001b[0m\u001b[0;34m)\u001b[0m\u001b[0;34m\u001b[0m\u001b[0m\n\u001b[0m\u001b[1;32m      8\u001b[0m     \u001b[0;32mreturn\u001b[0m \u001b[0;34m[\u001b[0m\u001b[0mv_i\u001b[0m \u001b[0;34m-\u001b[0m \u001b[0mw_i\u001b[0m \u001b[0;32mfor\u001b[0m \u001b[0mv_i\u001b[0m\u001b[0;34m,\u001b[0m \u001b[0mw_i\u001b[0m \u001b[0;32min\u001b[0m \u001b[0mzip\u001b[0m\u001b[0;34m(\u001b[0m\u001b[0mv\u001b[0m\u001b[0;34m,\u001b[0m\u001b[0mw\u001b[0m\u001b[0;34m)\u001b[0m\u001b[0;34m]\u001b[0m\u001b[0;34m\u001b[0m\u001b[0m\n\u001b[1;32m      9\u001b[0m \u001b[0;34m\u001b[0m\u001b[0m\n",
      "\u001b[0;31mAssertionError\u001b[0m: "
     ]
    }
   ],
   "source": [
    "Vector = List[float]\n",
    "def somar(v: Vector, w: Vector) -> Vector:\n",
    "    assert len(v) == len(w) # Verificar se tamnhos iguais nas listas\n",
    "    return [v_i + w_i for v_i, w_i in zip(v,w)]\n",
    "\n",
    "def subtrair(v: Vector, w: Vector) -> Vector:\n",
    "    assert len(v) == len(w)\n",
    "    return [v_i - w_i for v_i, w_i in zip(v,w)]\n",
    "\n",
    "\n",
    "print(somar([1,2,5], [5, 2, 1]))\n",
    "print(subtrair([1,5, 4], [5, 2, 1]))\n",
    "print(subtrair([1,5], [5, 2, 1])) # Assertion error"
   ]
  },
  {
   "cell_type": "markdown",
   "metadata": {},
   "source": [
    "## Calculos de vetores - pg 57\n",
    "\n",
    "- soma de elementos\n",
    "- multiplicação escalar\n",
    "- média\n",
    "\n",
    "### Soma de elementos\n",
    "\n",
    "Soma os elementos das lista pela posição. (lista dentro de lista)\n",
    "\n",
    "### Multiplicação escalar\n",
    "\n",
    "Multiplica cada elemento da lista por um valor escolhido\n",
    "\n",
    "### Média\n",
    "\n",
    "Utilizando as Funções a cima, tem como objetivo retornar uma lista de medias.\n",
    "\n",
    "ela soma item por item da lista de acordo com sua posição e multiplica por 1/n, onde n é o comprimento da lista.\n",
    "\n",
    "exemplo:\n",
    "\n",
    "Uma professora quer ver as médias dos alunos ela passa uma lista com as notas da primeira e segunda prova, o programa retorna a média de cada aluno.\n",
    "\n",
    "((notas 1),(notas 2))\n",
    "\n",
    "cada posição representa um aluno tanto para notas 1 quanto para notas 2, o programa retorna uma lista com a média de cada aluno de acordo com sua posição."
   ]
  },
  {
   "cell_type": "code",
   "execution_count": 59,
   "metadata": {},
   "outputs": [
    {
     "name": "stdout",
     "output_type": "stream",
     "text": [
      "[20, 32]\n"
     ]
    }
   ],
   "source": [
    "def soma_elements(vectors:Vector) -> Vector:\n",
    "    assert vectors\n",
    "    num_elements = len(vectors[0]) # Lista dentro de lista\n",
    "    assert all(len(v) == num_elements for v in vectors) #Verifica se as listas dentro da variavel tem mesmo tamanho\n",
    "    \n",
    "    return [sum(vector[i] for vector in vectors) \n",
    "           for i in range(num_elements)]\n",
    "\n",
    "print(soma_elements([[1,9],[5,8],[8,5],[6, 10]]))"
   ]
  },
  {
   "cell_type": "code",
   "execution_count": 60,
   "metadata": {},
   "outputs": [
    {
     "name": "stdout",
     "output_type": "stream",
     "text": [
      "[10, 12, 14]\n"
     ]
    }
   ],
   "source": [
    "def multplicacao_escalar(s:float, vectors:List[float]):\n",
    "    return [s * v_i for v_i in vectors]\n",
    "\n",
    "print(multplicacao_escalar(2,[5, 6, 7]))"
   ]
  },
  {
   "cell_type": "code",
   "execution_count": 61,
   "metadata": {},
   "outputs": [
    {
     "name": "stdout",
     "output_type": "stream",
     "text": [
      "[5.0, 8.0]\n"
     ]
    }
   ],
   "source": [
    "def media(vectors:List[float]):\n",
    "    n = len(vectors)\n",
    "    return multplicacao_escalar(1/n, soma_elements(vectors))\n",
    "\n",
    "print(media([[1,9],[5,8],[8,5],[6, 10]]))"
   ]
  },
  {
   "cell_type": "markdown",
   "metadata": {},
   "source": [
    "## Calculos de vetores - pg 58\n",
    "\n",
    "- Produto Escalar\n",
    "- Soma dos quadrados\n",
    "- Magnitude\n",
    "- Distância\n",
    "\n",
    "### Produto escalar\n",
    "\n",
    "Função para Somar duas Multiplicações\n",
    "\n",
    "### Soma dos quadrados\n",
    "\n",
    "somar cada item elevado ao quadrado, utilizando a função produto escalar para reliazar a potenciação.\n",
    "\n",
    "\n",
    "### magnitude \n",
    "\n",
    "Basicamente Teoremas de pitagoras sendo funcional com a ajuda das duas funções descritas a cima.\n",
    "Usado para medir o comprimento entre os pontos.\n",
    "\n",
    "### Distancia\n",
    "\n",
    "Mostra a distância entre vetores (pontos), ultilizando da função subtrair para obter a diferença entre os pontos e depois a função magnitude para realizar o Teorema de Pitagorás e obter a distancia entre os pontos."
   ]
  },
  {
   "cell_type": "code",
   "execution_count": 62,
   "metadata": {},
   "outputs": [
    {
     "name": "stdout",
     "output_type": "stream",
     "text": [
      "40\n"
     ]
    }
   ],
   "source": [
    "def produto_escalar (v: List[float], w: List[float]) -> float: #soma do resultado de uma multiplicação\n",
    "    assert len(v) == len(w) # Verificar se tamnhos iguais nas listas\n",
    "    \n",
    "    return sum(v_i * w_i for v_i, w_i in zip(v,w))\n",
    "\n",
    "print(produto_escalar([2, 3], [ 5, 10]))"
   ]
  },
  {
   "cell_type": "code",
   "execution_count": 63,
   "metadata": {},
   "outputs": [],
   "source": [
    "def soma_quadrados(v:List[float]) -> float:\n",
    "    return produto_escalar(v,v)\n",
    "\n",
    "assert soma_quadrados([1,2,3]) == 14"
   ]
  },
  {
   "cell_type": "code",
   "execution_count": 64,
   "metadata": {},
   "outputs": [
    {
     "name": "stdout",
     "output_type": "stream",
     "text": [
      "14\n"
     ]
    }
   ],
   "source": [
    "print(soma_quadrados([1,2,3]))"
   ]
  },
  {
   "cell_type": "code",
   "execution_count": 65,
   "metadata": {},
   "outputs": [
    {
     "name": "stdout",
     "output_type": "stream",
     "text": [
      "5.0\n"
     ]
    }
   ],
   "source": [
    "def magnitude(v:List[float]) -> float: #Representa o comprimento de um vetor (teorema de pitagoras)\n",
    "    return math.sqrt(soma_quadrados(v))\n",
    "\n",
    "print(magnitude([3,4]))\n",
    "    "
   ]
  },
  {
   "cell_type": "code",
   "execution_count": 66,
   "metadata": {},
   "outputs": [
    {
     "name": "stdout",
     "output_type": "stream",
     "text": [
      "1.4142135623730951\n"
     ]
    }
   ],
   "source": [
    "def distancia(v: List[float], w: List[float]) -> float: # Distancia entre dois vetores (v_i - w_i)**2\n",
    "    return magnitude(subtrair(v , w))\n",
    "\n",
    "print(distancia([1,2], [2,1]))"
   ]
  },
  {
   "cell_type": "code",
   "execution_count": null,
   "metadata": {},
   "outputs": [],
   "source": []
  }
 ],
 "metadata": {
  "kernelspec": {
   "display_name": "Python 3 (ipykernel)",
   "language": "python",
   "name": "python3"
  },
  "language_info": {
   "codemirror_mode": {
    "name": "ipython",
    "version": 3
   },
   "file_extension": ".py",
   "mimetype": "text/x-python",
   "name": "python",
   "nbconvert_exporter": "python",
   "pygments_lexer": "ipython3",
   "version": "3.7.0"
  }
 },
 "nbformat": 4,
 "nbformat_minor": 2
}
