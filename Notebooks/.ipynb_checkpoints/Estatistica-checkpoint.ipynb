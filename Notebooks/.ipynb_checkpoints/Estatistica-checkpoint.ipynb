{
 "cells": [
  {
   "cell_type": "markdown",
   "metadata": {},
   "source": [
    "# Estatística - Pg 65\n",
    "\n"
   ]
  },
  {
   "cell_type": "code",
   "execution_count": 4,
   "metadata": {},
   "outputs": [
    {
     "name": "stdout",
     "output_type": "stream",
     "text": [
      "['/home/alizon/projetos/Data_Science_do_0/Notebooks', '/home/alizon/anaconda3/lib/python37.zip', '/home/alizon/anaconda3/lib/python3.7', '/home/alizon/anaconda3/lib/python3.7/lib-dynload', '', '/home/alizon/anaconda3/lib/python3.7/site-packages', '/home/alizon/anaconda3/lib/python3.7/site-packages/IPython/extensions', '/home/alizon/.ipython', 'projetos\\\\Data_Science_do_0\\\\Script .py', '~/projetos/Data_Science_do_0/Script .py', '~/projetos/Data_Science_do_0/Script .py', '/home/alizon/projetos/Data_Science_do_0/Script .py']\n"
     ]
    }
   ],
   "source": [
    "import matplotlib.pyplot as plt\n",
    "from collections import Counter\n",
    "from typing import List\n",
    "import sys\n",
    "sys.path.append(f'/home/alizon/projetos/Data_Science_do_0/Script .py')\n",
    "print(sys.path)\n",
    "import Algebra_linear\n",
    "import math"
   ]
  },
  {
   "cell_type": "code",
   "execution_count": null,
   "metadata": {},
   "outputs": [],
   "source": [
    "# Cada posição corresponde a quantidade de amigos de um usuario\n",
    "num_amg = [45, 51, 62, 38, 51, 78, 51, 74, 78, 45,\n",
    "          62, 45, 100, 20, 45, 74, 38, 62, 38, 51,\n",
    "          20, 74, 20, 38, 32, 47, 32, 20, 47, 51]\n",
    "count_amg = Counter(num_amg) # Dicionário com a contagem de cada valor\n",
    "count_amg\n"
   ]
  },
  {
   "cell_type": "code",
   "execution_count": null,
   "metadata": {},
   "outputs": [],
   "source": [
    "xs = range(max(num_amg, key=int) + 1) # range até o ultimo valor  \n",
    "ys = [count_amg[x] for x in xs] # Percorrer todos os itens\n",
    "plt.bar(xs, ys) # dados\n",
    "plt.axis([0, 101, 0, 25 ]) # valorex eixo x e y\n",
    "plt.title('Quantida de Amigos')\n",
    "plt.xlabel('Nº amigos')\n",
    "plt.ylabel('Nº Pessoas')\n",
    "plt.show() # Exibir"
   ]
  },
  {
   "cell_type": "code",
   "execution_count": null,
   "metadata": {},
   "outputs": [],
   "source": [
    "num_itens = len(num_amg) # Tamanho da lista\n",
    "maior_valor = max(num_amg) # Valor máximo\n",
    "menor_valor = min(num_amg) # Valor Minímo\n",
    "print(num_itens, maior_valor, menor_valor)"
   ]
  },
  {
   "cell_type": "code",
   "execution_count": null,
   "metadata": {},
   "outputs": [],
   "source": [
    "sorted_amg= sorted(num_amg) #Coloca em Ordem crescente\n",
    "sorted_amg"
   ]
  },
  {
   "cell_type": "markdown",
   "metadata": {},
   "source": [
    "## Tendências Centrais - pg 67\n",
    "\n",
    "- media\n",
    "- mediana\n",
    "- quartil\n",
    "- Moda\n",
    "\n",
    "### Media\n",
    "Sensível a outliers(valores anomálos) já que mudanças nos \n",
    "dados Influência no resultado da Média\n",
    "\n",
    "### Mediana\n",
    "se o numero de elementos for Ímpar ela obtém o valor do meio da matriz \n",
    "(matriz deve estar em ordem crescente). Se for par ela obtém a média\n",
    "dos dois números do meio.\n",
    "\n",
    "Outliers não influenciam nesses casos.\n",
    "\n",
    "### Quartil\n",
    "Forma de dividir os conjuntos de dados.<br />\n",
    "\n",
    "quartil 1/4 - valor referente a 25% da amostra ordenada <br />\n",
    "quartil 2/4 - (mediana) valor referente a 50% da amostra ordenada <br />\n",
    "quartil 3/4 - valor referente a 75% da amostra ordenada\n",
    "\n",
    "### Moda\n",
    "\n",
    "Retorna uma lista com os valores que mais aparecem na matriz."
   ]
  },
  {
   "cell_type": "code",
   "execution_count": null,
   "metadata": {},
   "outputs": [],
   "source": [
    "def media(xs : List[float]) -> float: #Media dos vetores\n",
    "    return sum(xs)/len(xs)\n",
    "\n",
    "media(num_amg)"
   ]
  },
  {
   "cell_type": "code",
   "execution_count": null,
   "metadata": {},
   "outputs": [],
   "source": [
    "#mediana com matriz com numero de elemntos impar\n",
    "def _mediana_impar(xs: List[float]) -> float: \n",
    "    return xs[len(xs) // 2]\n",
    "\n",
    "#mediana com matriz com numero de elemntos par\n",
    "def _mediana_par(xs: List[float]) -> float:\n",
    "    xs_sorted = sorted(xs)\n",
    "    pont_med = len(xs_sorted) // 2\n",
    "    \n",
    "    return (xs[pont_med - 1] + xs[pont_med]) / 2\n",
    "#Calcular Mediana\n",
    "def mediana(v: List[float]) -> float:\n",
    "    return _mediana_par(v) if len(v) % 2 == 0 else _mediana_impar(v)"
   ]
  },
  {
   "cell_type": "code",
   "execution_count": null,
   "metadata": {},
   "outputs": [],
   "source": [
    "matriz = [1, 2, 3, 4, 5, 6, 7, 8, 9]\n",
    "mediana(matriz)"
   ]
  },
  {
   "cell_type": "code",
   "execution_count": null,
   "metadata": {},
   "outputs": [],
   "source": [
    "matriz = [1, 2, 3, 4, 5, 6, 7, 8]\n",
    "mediana(matriz)"
   ]
  },
  {
   "cell_type": "code",
   "execution_count": null,
   "metadata": {},
   "outputs": [],
   "source": [
    "mediana(sorted_amg)"
   ]
  },
  {
   "cell_type": "code",
   "execution_count": null,
   "metadata": {},
   "outputs": [],
   "source": [
    "# recebe a porcentagem de quartil e a matriz\n",
    "#retornar o quartil corresponde a porcentagem informada\n",
    "def quartil(xs: List[float], p:float) -> float:\n",
    "    index = int(p * len(xs))\n",
    "    return sorted(xs)[index]\n",
    "\n",
    "print(quartil(matriz, 0.10), quartil(matriz, 0.25), \n",
    "      quartil(matriz, 0.50),\n",
    "      quartil(matriz, 0.75), quartil(matriz, 0.90))\n"
   ]
  },
  {
   "cell_type": "code",
   "execution_count": null,
   "metadata": {},
   "outputs": [],
   "source": []
  },
  {
   "cell_type": "code",
   "execution_count": null,
   "metadata": {},
   "outputs": [],
   "source": [
    "def moda(xs: List[float]) -> List[float]:\n",
    "    counts = Counter(xs)\n",
    "    max_value = max(counts.values())\n",
    "    return [x_i for x_i, count in counts.items() \n",
    "            if count==max_value]\n",
    "\n",
    "moda(num_amg)\n"
   ]
  },
  {
   "cell_type": "markdown",
   "metadata": {},
   "source": [
    "## Dispersão - pg 69\n",
    "\n",
    "- amplitude\n",
    "- variância\n",
    "- desvio padrao\n",
    "- interquartil range\n",
    "\n",
    "### Amplitude\n",
    "Diferença entre o maior e o menor elemento.\n",
    "\n",
    "### Variância\n",
    "quase um desvio quadrado medio da média, mas ao invés de dividir por n, \n",
    "dividimos por n-1, isso é conhecido como correção de Bessel , que corrige\n",
    "o viés na estimativa da variância da população , e alguns, mas não todos\n",
    "os vieses na estimativa do padrão populacional desvio.\n",
    "\n",
    "https://en.wikipedia.org/wiki/Unbiased_estimation_of_standard_deviation\n",
    "    \n",
    "### Desvio padrão\n",
    "Representa o desvio padrão dos dados, ou seja quanto maior o valor do\n",
    "desvio padrão mais os dados estão espalhados por uma ampla gama de \n",
    "valores, quanto mais baixo, mais perto os dados estão da média.\n",
    "\n",
    "raiz quadrada da variância.\n",
    "\n",
    "### Interquartil range\n",
    "Como o desvio padrão e a amplitude são muito influenciados por outliers \n",
    "(valores anomálos que nao representam os dados), esse método vem com o \n",
    "alternativa para evitar poucos outliers.\n",
    "\n",
    "ele representa a diferença entre 75% dos dados e 25% dos dados\n",
    "(quartil 75% - quartil 25%)\n",
    "\n"
   ]
  },
  {
   "cell_type": "code",
   "execution_count": null,
   "metadata": {},
   "outputs": [],
   "source": [
    "def amplitude(xs:List[float]) -> float:\n",
    "    return max(xs) - min(xs)\n",
    "\n",
    "amplitude(num_amg)"
   ]
  },
  {
   "cell_type": "code",
   "execution_count": null,
   "metadata": {},
   "outputs": [],
   "source": [
    "def de_media(xs:List[float]) -> List[float]:\n",
    "    _media = media(xs)\n",
    "    return [x - _media for x in xs]\n",
    "\n",
    "def variance (xs: List[float]) -> float: # Quase desvio quadrado da média\n",
    "    assert len(xs) >= 2 # Variance requer 2 elementos no minimo\n",
    "    n = len(xs)\n",
    "    deviations = de_media(xs)\n",
    "    \n",
    "    return Algebra_linear.soma_quadrados(deviations) / (n - 1)\n",
    "    \n",
    "print(variance(num_amg))"
   ]
  },
  {
   "cell_type": "code",
   "execution_count": null,
   "metadata": {},
   "outputs": [],
   "source": [
    "def desvio_padrao(xs : List[float]) -> float:\n",
    "    return math.sqrt(variance(xs))\n",
    "\n",
    "desvio_padrao(num_amg)"
   ]
  },
  {
   "cell_type": "code",
   "execution_count": null,
   "metadata": {},
   "outputs": [],
   "source": [
    "def interquartitle_range(xs: List[float]) -> float:\n",
    "    return quartil(xs, 0.75) - quartil(xs, 0.25)\n",
    "\n",
    "print(interquartitle_range(num_amg))"
   ]
  },
  {
   "cell_type": "markdown",
   "metadata": {},
   "source": [
    "## Correlação - pg 70\n",
    "\n",
    "- covariância\n",
    "- correlação\n",
    "\n",
    "### Covariância\n",
    "a variância mede o desvio dos valores em relação a média, a covariância\n",
    "mede a variância de dois pares, ou seja, mede a variação simultânea de\n",
    "de duas variáveis em relação a sua média.\n",
    "\n",
    "Covariância positiva - mostra que quanto mais uma variável aumenta\n",
    "a outra também aumenta.\n",
    "\n",
    "covariância negativa - mostra que quanto mais a variável aumenta a \n",
    "outra diminui.\n",
    "\n",
    "covariância 0 - não tem relação\n",
    "\n",
    "problemas: se cada usuário tivesse o dobro de amigos e a mesma quantidade\n",
    "de minutos, a covariância seria duas vezes maior, porém na prática as\n",
    "variáveis estariam tão inter-relacionadas como antes. resumindo é difícil\n",
    "definir uma covariância alta.\n",
    "\n",
    "### Correlação\n",
    "\n",
    "Para acabar com alguns problemas da covariância temos a correlação. \n",
    "ela basicamente divide a covariância pelo desvio padrão de cada variável.\n",
    "\n",
    "a Correlação varia de -1 a 1, onde -1 indica uma correlaçao negativa \n",
    "perfeita, e 1 uma correlação positiva perfeita, 0 representa não \n",
    "correlação."
   ]
  },
  {
   "cell_type": "code",
   "execution_count": null,
   "metadata": {},
   "outputs": [],
   "source": [
    "def covariance(xs: List[float], ys: List[float]) -> float:\n",
    "    assert len(xs) == len(ys)\n",
    "    \n",
    "    return Algebra_linear.produto_escalar(\n",
    "        de_media(xs), de_media(ys)) / (len(ys) -1) \n",
    "\n"
   ]
  },
  {
   "cell_type": "code",
   "execution_count": null,
   "metadata": {},
   "outputs": [],
   "source": [
    "# Matriz representando covariância positiva (+amgs +minutos)\n",
    "amg_minuts1 = [55, 60, 75, 40, 67, 100, 60, 90, 100, 60,\n",
    "          75, 54, 120, 25, 64, 90, 45, 75, 42, 76,\n",
    "          21, 90, 20, 30, 30, 65, 35, 22, 50, 64]\n",
    "\n",
    "\n",
    "plt.scatter(num_amg, amg_minuts1) # dados\n",
    "plt.axis([0, 101, 0, 121 ]) # valorex eixo x e y\n",
    "plt.title('Quantidade de Amigos x tempo')\n",
    "plt.xlabel('Nº amigos')\n",
    "plt.ylabel('Minutos')\n",
    "plt.show() # Exibir"
   ]
  },
  {
   "cell_type": "code",
   "execution_count": null,
   "metadata": {},
   "outputs": [],
   "source": [
    "covariance(num_amg, amg_minuts1)"
   ]
  },
  {
   "cell_type": "code",
   "execution_count": null,
   "metadata": {},
   "outputs": [],
   "source": [
    "# Matriz representando covariância negativa (+amgs -minutos)\n",
    "amg_minuts2 = [70, 50, 45, 100, 55, 30, 51, 35, 29, 71,\n",
    "          43, 70, 20, 105, 71, 35, 80, 40, 38, 50,\n",
    "          115, 31, 107, 38, 90, 65, 95, 110, 62, 60]\n",
    "\n",
    "plt.scatter(num_amg, amg_minuts2) # dados\n",
    "plt.axis([0, 101, 0, 121 ]) # valorex eixo x e y\n",
    "plt.title('Quantidade de Amigos x tempo')\n",
    "plt.xlabel('Nº amigos')\n",
    "plt.ylabel('Minutos')\n",
    "plt.show() # Exibir"
   ]
  },
  {
   "cell_type": "code",
   "execution_count": null,
   "metadata": {},
   "outputs": [],
   "source": [
    "covariance(num_amg, amg_minuts2)"
   ]
  },
  {
   "cell_type": "code",
   "execution_count": null,
   "metadata": {},
   "outputs": [],
   "source": [
    "def correlacao(xs: List[float], ys: List[float]) -> float:\n",
    "    desvio_xs = desvio_padrao(xs)\n",
    "    desvio_ys = desvio_padrao(ys)\n",
    "    \n",
    "    if desvio_xs > 0 and desvio_ys >0:\n",
    "        return covariance(xs,ys) / desvio_xs / desvio_ys\n",
    "    else:\n",
    "        return 0"
   ]
  },
  {
   "cell_type": "code",
   "execution_count": null,
   "metadata": {},
   "outputs": [],
   "source": [
    "correlacao(num_amg, amg_minuts1)"
   ]
  },
  {
   "cell_type": "code",
   "execution_count": null,
   "metadata": {},
   "outputs": [],
   "source": [
    "# Criando outlier para verificar diferença de correlaçao\n",
    "\n",
    "amg_minuts1[12] = 1 # Atribuir 1 minuto para a pessoa q tem 100 amgs\n",
    "plt.scatter(num_amg, amg_minuts1) # dados\n",
    "plt.axis([0, 101, 0, 121 ]) # valorex eixo x e y\n",
    "plt.title('Quantidade de Amigos x tempo')\n",
    "plt.xlabel('Nº amigos')\n",
    "plt.ylabel('Minutos')\n",
    "plt.show() # Exibir"
   ]
  },
  {
   "cell_type": "code",
   "execution_count": null,
   "metadata": {},
   "outputs": [],
   "source": [
    "# Correlacao com outlier\n",
    "correlacao(num_amg, amg_minuts1)"
   ]
  },
  {
   "cell_type": "code",
   "execution_count": null,
   "metadata": {},
   "outputs": [],
   "source": [
    "# Correlação negativa usando a segunda matriz de minutos\n",
    "correlacao(num_amg, amg_minuts2)"
   ]
  }
 ],
 "metadata": {
  "kernelspec": {
   "display_name": "Python 3 (ipykernel)",
   "language": "python",
   "name": "python3"
  },
  "language_info": {
   "codemirror_mode": {
    "name": "ipython",
    "version": 3
   },
   "file_extension": ".py",
   "mimetype": "text/x-python",
   "name": "python",
   "nbconvert_exporter": "python",
   "pygments_lexer": "ipython3",
   "version": "3.7.0"
  }
 },
 "nbformat": 4,
 "nbformat_minor": 2
}
